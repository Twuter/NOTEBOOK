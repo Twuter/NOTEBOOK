{
 "cells": [
  {
   "cell_type": "code",
   "execution_count": 3,
   "metadata": {},
   "outputs": [
    {
     "name": "stdout",
     "output_type": "stream",
     "text": [
      "0.3261471260041594\n"
     ]
    }
   ],
   "source": [
    "import  random\n",
    "#随机获取一个小数\n",
    "# print(yet =  random.random(1,3))\n",
    "\n",
    "yet = random.random()\n",
    "print(yet)"
   ]
  },
  {
   "cell_type": "code",
   "execution_count": 7,
   "metadata": {},
   "outputs": [
    {
     "name": "stdout",
     "output_type": "stream",
     "text": [
      "4\n"
     ]
    }
   ],
   "source": [
    "# 随机获取一个整数\n",
    "yet = random.randint(1,6)\n",
    "print(yet)"
   ]
  },
  {
   "cell_type": "code",
   "execution_count": 30,
   "metadata": {},
   "outputs": [
    {
     "name": "stdout",
     "output_type": "stream",
     "text": [
      "11\n"
     ]
    }
   ],
   "source": [
    "# 随便选择\n",
    "\n",
    "yet =  random.choice([11,22,33,44,55])\n",
    "print(yet)"
   ]
  },
  {
   "cell_type": "code",
   "execution_count": 51,
   "metadata": {},
   "outputs": [
    {
     "name": "stdout",
     "output_type": "stream",
     "text": [
      "vjUN8\n"
     ]
    }
   ],
   "source": [
    "#随机动态验证码生成器\n",
    "\n",
    "import  random\n",
    "\n",
    "\n",
    "def  v_code1():\n",
    "    ret=\"\"\n",
    "    for i in range(5):\n",
    "        num = random.randint(0,9)\n",
    "    \n",
    "        yet = chr(random.randint(65,122))\n",
    "        \n",
    "        s = str(random.choice([num,yet]))\n",
    "        ret+= s\n",
    "    return ret\n",
    "                \n",
    "print(v_code1())\n",
    "    \n",
    "\n",
    "\n"
   ]
  },
  {
   "cell_type": "code",
   "execution_count": 38,
   "metadata": {},
   "outputs": [
    {
     "name": "stdout",
     "output_type": "stream",
     "text": [
      "$\n"
     ]
    }
   ],
   "source": [
    "char = chr(36)\n",
    "\n",
    "print(char)"
   ]
  }
 ],
 "metadata": {
  "kernelspec": {
   "display_name": "Python 3",
   "language": "python",
   "name": "python3"
  },
  "language_info": {
   "codemirror_mode": {
    "name": "ipython",
    "version": 3
   },
   "file_extension": ".py",
   "mimetype": "text/x-python",
   "name": "python",
   "nbconvert_exporter": "python",
   "pygments_lexer": "ipython3",
   "version": "3.6.0"
  }
 },
 "nbformat": 4,
 "nbformat_minor": 2
}
