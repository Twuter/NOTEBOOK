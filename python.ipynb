{
 "cells": [
  {
   "cell_type": "code",
   "execution_count": 13,
   "metadata": {},
   "outputs": [
    {
     "name": "stdout",
     "output_type": "stream",
     "text": [
      "a+b 300\n",
      "z2=\n"
     ]
    }
   ],
   "source": [
    "a=100\n",
    "b=200\n",
    "\n",
    "z2=exec(\"print('a+b',a+b)\")\n",
    "print('z2='.format(z2)) "
   ]
  },
  {
   "cell_type": "code",
   "execution_count": 18,
   "metadata": {},
   "outputs": [
    {
     "name": "stdout",
     "output_type": "stream",
     "text": [
      "repeat for 0\n",
      "repeat for 1\n",
      "repeat for 2\n",
      "repeat for 0\n",
      "repeat for 1\n",
      "repeat for 2\n",
      "repeat for 0\n",
      "repeat for 1\n",
      "repeat for 2\n",
      "repeat for 0\n",
      "repeat for 1\n",
      "repeat for 2\n",
      "repeat for 0\n",
      "repeat for 1\n",
      "repeat for 2\n",
      "repeat for 0\n",
      "repeat for 1\n",
      "repeat for 2\n",
      "repeat for 0\n",
      "repeat for 1\n",
      "repeat for 2\n",
      "repeat for 0\n",
      "repeat for 1\n",
      "repeat for 2\n",
      "repeat for 0\n",
      "repeat for 1\n",
      "repeat for 2\n",
      "repeat for 0\n",
      "repeat for 1\n",
      "repeat for 2\n"
     ]
    }
   ],
   "source": [
    "import timeit\n",
    "s='''\n",
    "\n",
    "def donit(num):\n",
    "        for i in range(num):\n",
    "            print(\"repeat for {0}\".format(i))\n",
    "'''\n",
    "\n",
    "t=timeit.timeit(\"donit(num)\",setup=s+\"num=3\",number=10)\n"
   ]
  },
  {
   "cell_type": "code",
   "execution_count": 23,
   "metadata": {
    "scrolled": true
   },
   "outputs": [
    {
     "name": "stdout",
     "output_type": "stream",
     "text": [
      "/etc\n"
     ]
    }
   ],
   "source": [
    "import  os\n",
    "\n",
    "os.chdir(\"/etc/\")\n",
    "t =os.getcwd()\n",
    "print(t)"
   ]
  },
  {
   "cell_type": "code",
   "execution_count": 26,
   "metadata": {},
   "outputs": [
    {
     "name": "stdout",
     "output_type": "stream",
     "text": [
      "Help on module timeit:\n",
      "\n",
      "NAME\n",
      "    timeit - Tool for measuring execution time of small code snippets.\n",
      "\n",
      "DESCRIPTION\n",
      "    This module avoids a number of common traps for measuring execution\n",
      "    times.  See also Tim Peters' introduction to the Algorithms chapter in\n",
      "    the Python Cookbook, published by O'Reilly.\n",
      "    \n",
      "    Library usage: see the Timer class.\n",
      "    \n",
      "    Command line usage:\n",
      "        python timeit.py [-n N] [-r N] [-s S] [-t] [-c] [-p] [-h] [--] [statement]\n",
      "    \n",
      "    Options:\n",
      "      -n/--number N: how many times to execute 'statement' (default: see below)\n",
      "      -r/--repeat N: how many times to repeat the timer (default 3)\n",
      "      -s/--setup S: statement to be executed once initially (default 'pass').\n",
      "                    Execution time of this setup statement is NOT timed.\n",
      "      -p/--process: use time.process_time() (default is time.perf_counter())\n",
      "      -t/--time: use time.time() (deprecated)\n",
      "      -c/--clock: use time.clock() (deprecated)\n",
      "      -v/--verbose: print raw timing results; repeat for more digits precision\n",
      "      -u/--unit: set the output time unit (usec, msec, or sec)\n",
      "      -h/--help: print this usage message and exit\n",
      "      --: separate options from statement, use when statement starts with -\n",
      "      statement: statement to be timed (default 'pass')\n",
      "    \n",
      "    A multi-line statement may be given by specifying each line as a\n",
      "    separate argument; indented lines are possible by enclosing an\n",
      "    argument in quotes and using leading spaces.  Multiple -s options are\n",
      "    treated similarly.\n",
      "    \n",
      "    If -n is not given, a suitable number of loops is calculated by trying\n",
      "    successive powers of 10 until the total time is at least 0.2 seconds.\n",
      "    \n",
      "    Note: there is a certain baseline overhead associated with executing a\n",
      "    pass statement.  It differs between versions.  The code here doesn't try\n",
      "    to hide it, but you should be aware of it.  The baseline overhead can be\n",
      "    measured by invoking the program without arguments.\n",
      "    \n",
      "    Classes:\n",
      "    \n",
      "        Timer\n",
      "    \n",
      "    Functions:\n",
      "    \n",
      "        timeit(string, string) -> float\n",
      "        repeat(string, string) -> list\n",
      "        default_timer() -> float\n",
      "\n",
      "CLASSES\n",
      "    builtins.object\n",
      "        Timer\n",
      "    \n",
      "    class Timer(builtins.object)\n",
      "     |  Class for timing execution speed of small code snippets.\n",
      "     |  \n",
      "     |  The constructor takes a statement to be timed, an additional\n",
      "     |  statement used for setup, and a timer function.  Both statements\n",
      "     |  default to 'pass'; the timer function is platform-dependent (see\n",
      "     |  module doc string).  If 'globals' is specified, the code will be\n",
      "     |  executed within that namespace (as opposed to inside timeit's\n",
      "     |  namespace).\n",
      "     |  \n",
      "     |  To measure the execution time of the first statement, use the\n",
      "     |  timeit() method.  The repeat() method is a convenience to call\n",
      "     |  timeit() multiple times and return a list of results.\n",
      "     |  \n",
      "     |  The statements may contain newlines, as long as they don't contain\n",
      "     |  multi-line string literals.\n",
      "     |  \n",
      "     |  Methods defined here:\n",
      "     |  \n",
      "     |  __init__(self, stmt='pass', setup='pass', timer=<built-in function perf_counter>, globals=None)\n",
      "     |      Constructor.  See class doc string.\n",
      "     |  \n",
      "     |  autorange(self, callback=None)\n",
      "     |      Return the number of loops so that total time >= 0.2.\n",
      "     |      \n",
      "     |      Calls the timeit method with *number* set to successive powers of\n",
      "     |      ten (10, 100, 1000, ...) up to a maximum of one billion, until\n",
      "     |      the time taken is at least 0.2 second, or the maximum is reached.\n",
      "     |      Returns ``(number, time_taken)``.\n",
      "     |      \n",
      "     |      If *callback* is given and is not None, it will be called after\n",
      "     |      each trial with two arguments: ``callback(number, time_taken)``.\n",
      "     |  \n",
      "     |  print_exc(self, file=None)\n",
      "     |      Helper to print a traceback from the timed code.\n",
      "     |      \n",
      "     |      Typical use:\n",
      "     |      \n",
      "     |          t = Timer(...)       # outside the try/except\n",
      "     |          try:\n",
      "     |              t.timeit(...)    # or t.repeat(...)\n",
      "     |          except:\n",
      "     |              t.print_exc()\n",
      "     |      \n",
      "     |      The advantage over the standard traceback is that source lines\n",
      "     |      in the compiled template will be displayed.\n",
      "     |      \n",
      "     |      The optional file argument directs where the traceback is\n",
      "     |      sent; it defaults to sys.stderr.\n",
      "     |  \n",
      "     |  repeat(self, repeat=3, number=1000000)\n",
      "     |      Call timeit() a few times.\n",
      "     |      \n",
      "     |      This is a convenience function that calls the timeit()\n",
      "     |      repeatedly, returning a list of results.  The first argument\n",
      "     |      specifies how many times to call timeit(), defaulting to 3;\n",
      "     |      the second argument specifies the timer argument, defaulting\n",
      "     |      to one million.\n",
      "     |      \n",
      "     |      Note: it's tempting to calculate mean and standard deviation\n",
      "     |      from the result vector and report these.  However, this is not\n",
      "     |      very useful.  In a typical case, the lowest value gives a\n",
      "     |      lower bound for how fast your machine can run the given code\n",
      "     |      snippet; higher values in the result vector are typically not\n",
      "     |      caused by variability in Python's speed, but by other\n",
      "     |      processes interfering with your timing accuracy.  So the min()\n",
      "     |      of the result is probably the only number you should be\n",
      "     |      interested in.  After that, you should look at the entire\n",
      "     |      vector and apply common sense rather than statistics.\n",
      "     |  \n",
      "     |  timeit(self, number=1000000)\n",
      "     |      Time 'number' executions of the main statement.\n",
      "     |      \n",
      "     |      To be precise, this executes the setup statement once, and\n",
      "     |      then returns the time it takes to execute the main statement\n",
      "     |      a number of times, as a float measured in seconds.  The\n",
      "     |      argument is the number of times through the loop, defaulting\n",
      "     |      to one million.  The main statement, the setup statement and\n",
      "     |      the timer function to be used are passed to the constructor.\n",
      "     |  \n",
      "     |  ----------------------------------------------------------------------\n",
      "     |  Data descriptors defined here:\n",
      "     |  \n",
      "     |  __dict__\n",
      "     |      dictionary for instance variables (if defined)\n",
      "     |  \n",
      "     |  __weakref__\n",
      "     |      list of weak references to the object (if defined)\n",
      "\n",
      "FUNCTIONS\n",
      "    default_timer = perf_counter(...)\n",
      "        perf_counter() -> float\n",
      "        \n",
      "        Performance counter for benchmarking.\n",
      "    \n",
      "    repeat(stmt='pass', setup='pass', timer=<built-in function perf_counter>, repeat=3, number=1000000, globals=None)\n",
      "        Convenience function to create Timer object and call repeat method.\n",
      "    \n",
      "    timeit(stmt='pass', setup='pass', timer=<built-in function perf_counter>, number=1000000, globals=None)\n",
      "        Convenience function to create Timer object and call timeit method.\n",
      "\n",
      "DATA\n",
      "    __all__ = ['Timer', 'timeit', 'repeat', 'default_timer']\n",
      "\n",
      "FILE\n",
      "    /usr/local/python3.6/lib/python3.6/timeit.py\n",
      "\n",
      "\n"
     ]
    }
   ],
   "source": [
    "help(timeit)"
   ]
  },
  {
   "cell_type": "code",
   "execution_count": 33,
   "metadata": {
    "scrolled": true
   },
   "outputs": [
    {
     "name": "stdout",
     "output_type": "stream",
     "text": [
      "['udev', 'fstab', 'sysctl.conf', 'my.cnf.d', 'NetworkManager', 'sudo-ldap.conf', 'wgetrc', 'redhat-lsb', 'shadow', 'rsyncd.conf', 'filesystems', 'lsb-release.d', 'krb5.conf.d', 'favicon.png', 'GREP_COLORS', 'iproute2', 'yum.repos.d', 'cloud', 'libnl', 'system-release', 'default', 'DIR_COLORS.lightbgcolor', 'pam.d', 'inputrc', 'cron.deny', 'ethertypes', 'gnupg', 'cron.hourly', 'group', 'postfix', 'ld.so.conf.d', 'backup', 'ntp.conf', 'rc3.d', 'rwtab', 'mtab', 'alternatives', 'redhat-release', 'rc4.d', 'protocols', 'ld.so.conf', 'tmpfiles.d', 'passwd', 'dracut.conf', 'gcrypt', 'localtime', 'xinetd.d', 'opt', 'GeoIP.conf', 'anacrontab', 'prelink.conf.d', 'e2fsck.conf', 'machine-id', 'rsyslog.conf', 'gshadow-', 'os-release', 'hosts.deny', 'sestatus.conf', 'locale.conf', 'shadow-', 'cron.daily', 'statetab', 'asound.conf', 'GeoIP.conf.default', 'python', 'rpc', 'nsswitch.conf', 'subversion', 'rc.local', 'chkconfig.d', 'ssl', 'ntp', 'grub.d', 'rc2.d', 'selinux', 'pm', 'pki', 'skel', 'lftp.conf', 'polkit-1', 'aliases.db', 'plymouth', 'logrotate.conf', 'printcap', 'exports', 'modules-load.d', 'rwtab.d', 'modprobe.d', 'sysctl.d', 'audisp', 'dbus-1', 'networks', 'bashrc', 'csh.login', 'rsyslog.d', 'dhcp', 'crontab', 'grub2.cfg', 'my.cnf', 'timezone', 'tuned', 'hosts.allow', 'depmod.d', 'tcsd.conf', 'systemd', 'ppp', 'man_db.conf', 'centos-release-upstream', 'magic', 'chrony.conf', 'audit', 'chrony.keys', 'logrotate.d', 'issue', 'sudoers', 'aliases', 'kdump.conf', 'resolv.conf', 'gdbinit', 'xdg', 'rc6.d', '.pwd.lock', 'libaudit.conf', 'hostname', 'rc0.d', 'gss', 'subuid', 'ld.so.cache', 'machine-info', 'profile.d', 'firewalld', 'openldap', 'subgid', 'profile', 'wpa_supplicant', 'host.conf', 'rc.d', 'DIR_COLORS.256color', 'DIR_COLORS', 'bash_completion.d', 'motd', 'rc1.d', 'vimrc', 'security', 'at.deny', 'hosts', 'ssh', 'login.defs', 'krb5.conf', 'gdbinit.d', 'dracut.conf.d\\r', 'gshadow', 'cron.weekly', 'inittab', 'dracut.conf.d', 'sudoers.d', 'libuser.conf', 'centos-release', 'kernel', 'mke2fs.conf', 'eni_utils', 'mail.rc', 'passwd-', 'terminfo', '.updated', 'virc', 'adjtime', 'sasl2', 'group-', 'yum.conf', 'vconsole.conf', 'screenrc', 'sysconfig', 'X11', 'nsswitch.conf.bak', 'groff', 'init.d', 'cron.monthly', 'pkcs11', 'popt.d', 'sudo.conf', 'services', 'securetty', 'csh.cshrc', 'environment', 'issue.net', 'yum', 'crypttab', 'rpm', 'rc5.d', 'shells', 'cron.d', 'system-release-cpe', 'makedumpfile.conf.sample', 'nscd.conf', 'statetab.d', 'binfmt.d']\n"
     ]
    }
   ],
   "source": [
    "import  os\n",
    "t =os.getcwd()\n",
    "t=os.listdir()\n",
    "\n",
    "print(t)"
   ]
  },
  {
   "cell_type": "code",
   "execution_count": 36,
   "metadata": {},
   "outputs": [
    {
     "name": "stdout",
     "output_type": "stream",
     "text": [
      "/usr/local/sbin:/usr/local/bin:/usr/sbin:/usr/bin:/usr/local/python3.6/bin:/root/bin\n"
     ]
    }
   ],
   "source": [
    "import os \n",
    "\n",
    "t = os.getenv(\"PATH\")\n",
    "print(t)"
   ]
  },
  {
   "cell_type": "code",
   "execution_count": 45,
   "metadata": {},
   "outputs": [
    {
     "name": "stdout",
     "output_type": "stream",
     "text": [
      "/\n",
      "posix\n",
      "\n",
      "\n"
     ]
    }
   ],
   "source": [
    "import os \n",
    "print(os.sep)\n",
    "print (os.name)\n",
    "print (os.linesep)"
   ]
  },
  {
   "cell_type": "code",
   "execution_count": 61,
   "metadata": {},
   "outputs": [
    {
     "data": {
      "text/plain": [
       "True"
      ]
     },
     "execution_count": 61,
     "metadata": {},
     "output_type": "execute_result"
    }
   ],
   "source": [
    "## os.PATH模块\n",
    "import os.path as op\n",
    "os.chdir(\"/home/molin\")\n",
    "b=op.abspath(\".\")\n",
    "b\n",
    "f=op.isdir(b)\n",
    "f"
   ]
  },
  {
   "cell_type": "code",
   "execution_count": 65,
   "metadata": {},
   "outputs": [
    {
     "data": {
      "text/plain": [
       "True"
      ]
     },
     "execution_count": 65,
     "metadata": {},
     "output_type": "execute_result"
    }
   ],
   "source": [
    "import os.path as op\n",
    "e = op.exists(b)\n",
    "e"
   ]
  },
  {
   "cell_type": "code",
   "execution_count": 67,
   "metadata": {},
   "outputs": [],
   "source": [
    "import shutil\n",
    "\n",
    "t = shutil.copyfile(\"a.txt\",\"/home/b.txt\")"
   ]
  },
  {
   "cell_type": "code",
   "execution_count": 69,
   "metadata": {},
   "outputs": [],
   "source": [
    "import shutil\n",
    "\n",
    "t = shutil.copy(\"a.txt\",\"/home/molin/test/b.txt\")"
   ]
  },
  {
   "cell_type": "code",
   "execution_count": 73,
   "metadata": {},
   "outputs": [
    {
     "name": "stdout",
     "output_type": "stream",
     "text": [
      "/home/molin/test/b.txt\n"
     ]
    }
   ],
   "source": [
    "import shutil\n",
    "\n",
    "t = shutil.copy2(\"a.txt\",\"/home/molin/test/b.txt\")\n",
    "print(t)"
   ]
  },
  {
   "cell_type": "code",
   "execution_count": 75,
   "metadata": {},
   "outputs": [
    {
     "name": "stdout",
     "output_type": "stream",
     "text": [
      "Help on function make_archive in module shutil:\n",
      "\n",
      "make_archive(base_name, format, root_dir=None, base_dir=None, verbose=0, dry_run=0, owner=None, group=None, logger=None)\n",
      "    Create an archive file (eg. zip or tar).\n",
      "    \n",
      "    'base_name' is the name of the file to create, minus any format-specific\n",
      "    extension; 'format' is the archive format: one of \"zip\", \"tar\", \"bztar\"\n",
      "    or \"gztar\".\n",
      "    \n",
      "    'root_dir' is a directory that will be the root directory of the\n",
      "    archive; ie. we typically chdir into 'root_dir' before creating the\n",
      "    archive.  'base_dir' is the directory where we start archiving from;\n",
      "    ie. 'base_dir' will be the common prefix of all files and\n",
      "    directories in the archive.  'root_dir' and 'base_dir' both default\n",
      "    to the current directory.  Returns the name of the archive file.\n",
      "    \n",
      "    'owner' and 'group' are used when creating a tar archive. By default,\n",
      "    uses the current owner and group.\n",
      "\n"
     ]
    }
   ],
   "source": [
    "help(shutil.make_archive)"
   ]
  },
  {
   "cell_type": "code",
   "execution_count": 81,
   "metadata": {},
   "outputs": [
    {
     "name": "stdout",
     "output_type": "stream",
     "text": [
      "/home/molin/a.txt.tar\n"
     ]
    }
   ],
   "source": [
    "t=shutil.make_archive(\"/home/molin/a.txt\",\"tar\",\"/home/molin/\")\n",
    "print(t)"
   ]
  },
  {
   "cell_type": "code",
   "execution_count": 91,
   "metadata": {},
   "outputs": [
    {
     "name": "stdout",
     "output_type": "stream",
     "text": [
      "<class 'map'>\n",
      "<map object at 0x7f3c9407b630>\n",
      "0\n",
      "10\n",
      "20\n",
      "30\n",
      "40\n",
      "50\n",
      "60\n",
      "70\n",
      "80\n",
      "90\n"
     ]
    }
   ],
   "source": [
    "#from functools import map\n",
    "## 学习map映射\n",
    "\n",
    "\n",
    "\n",
    "def multen(n):\n",
    "     return n*10\n",
    " \n",
    "l1= [i for i in range(10)]\n",
    "\n",
    "l3 = map(multen,l1)\n",
    "print(type(l3))\n",
    "print(l3)\n",
    "\n",
    "for i in l3:\n",
    "    print(i)"
   ]
  },
  {
   "cell_type": "code",
   "execution_count": 96,
   "metadata": {},
   "outputs": [
    {
     "name": "stdout",
     "output_type": "stream",
     "text": [
      "<class 'int'>\n",
      "45\n"
     ]
    }
   ],
   "source": [
    "from functools import reduce\n",
    "## 学习map映射\n",
    "def myadd(x,y):\n",
    "    return x+y\n",
    "l4=[i for i in range(10)]\n",
    "\n",
    "l5=reduce(myadd,l4)\n",
    "\n",
    "print(type(l5))\n",
    "print (l5)\n"
   ]
  },
  {
   "cell_type": "code",
   "execution_count": 100,
   "metadata": {},
   "outputs": [
    {
     "name": "stdout",
     "output_type": "stream",
     "text": [
      "<filter object at 0x7f3c9407b8d0>\n",
      "4\n",
      "56\n"
     ]
    }
   ],
   "source": [
    "## 编写整除代码\n",
    "\n",
    "def IsActive(a):\n",
    "    return a % 2 ==0\n",
    "\n",
    "l = [3,4,56,4453,6987,11]\n",
    "\n",
    "\n",
    "rst = filter(IsActive,l)\n",
    "print(rst)\n",
    "\n",
    "for i in rst:\n",
    "    print(i)\n",
    "\n"
   ]
  },
  {
   "cell_type": "code",
   "execution_count": 102,
   "metadata": {},
   "outputs": [
    {
     "name": "stdout",
     "output_type": "stream",
     "text": [
      "Help on built-in function sorted in module builtins:\n",
      "\n",
      "sorted(iterable, key=None, reverse=False)\n",
      "    Return a new list containing all items from the iterable in ascending order.\n",
      "    \n",
      "    A custom key function can be supplied to customize the sort order, and the\n",
      "    reverse flag can be set to request the result in descending order.\n",
      "\n"
     ]
    }
   ],
   "source": [
    "help(sorted)"
   ]
  },
  {
   "cell_type": "code",
   "execution_count": 113,
   "metadata": {},
   "outputs": [
    {
     "name": "stdout",
     "output_type": "stream",
     "text": [
      "1\n",
      "4\n",
      "9\n"
     ]
    }
   ],
   "source": [
    "#闭包操作\n",
    "def count1():\n",
    "    def f(j):\n",
    "        def g():\n",
    "            return j*j\n",
    "        return g\n",
    "    l=[]\n",
    "    for i in  range(1,4):\n",
    "        l.append(f(i))\n",
    "    return l\n",
    "    \n",
    "    \n",
    "    \n",
    "f1,f2,f3=count1()\n",
    "print(f1())\n",
    "print(f2())\n",
    "print(f3())\n",
    "        "
   ]
  },
  {
   "cell_type": "code",
   "execution_count": 124,
   "metadata": {},
   "outputs": [
    {
     "name": "stdout",
     "output_type": "stream",
     "text": [
      "地\n",
      "产\n",
      "数\n",
      "据\n",
      "库\n",
      "\n",
      "\n",
      "查\n",
      "询\n",
      "问\n",
      "题\n",
      "点\n",
      "在\n",
      "哪\n",
      "里\n",
      "\n",
      "\n",
      "测\n",
      "试\n"
     ]
    }
   ],
   "source": [
    "\n",
    "\n",
    "\n",
    "\n",
    "with open(r'a.txt','r') as  f:\n",
    "\n",
    "   # z=f.readline()\n",
    "\n",
    "    #for i in z:\n",
    "      #  print (i)\n",
    "        \n",
    "        f.seek(6,0)\n",
    "        z=f.read()\n",
    "        for i in z:\n",
    "            print(i)"
   ]
  },
  {
   "cell_type": "code",
   "execution_count": 127,
   "metadata": {},
   "outputs": [
    {
     "ename": "ValueError",
     "evalue": "I/O operation on closed file.",
     "output_type": "error",
     "traceback": [
      "\u001b[0;31m---------------------------------------------------------------------------\u001b[0m",
      "\u001b[0;31mValueError\u001b[0m                                Traceback (most recent call last)",
      "\u001b[0;32m<ipython-input-127-3831008a3e0b>\u001b[0m in \u001b[0;36m<module>\u001b[0;34m\u001b[0m\n\u001b[1;32m      2\u001b[0m     \u001b[0mf\u001b[0m\u001b[0;34m.\u001b[0m\u001b[0mwrite\u001b[0m\u001b[0;34m(\u001b[0m\u001b[0;34m\"小楼一夜听春雨\"\u001b[0m\u001b[0;34m)\u001b[0m\u001b[0;34m\u001b[0m\u001b[0m\n\u001b[1;32m      3\u001b[0m \u001b[0;34m\u001b[0m\u001b[0m\n\u001b[0;32m----> 4\u001b[0;31m \u001b[0mz\u001b[0m\u001b[0;34m=\u001b[0m\u001b[0mf\u001b[0m\u001b[0;34m.\u001b[0m\u001b[0mreadline\u001b[0m\u001b[0;34m(\u001b[0m\u001b[0;34m)\u001b[0m\u001b[0;34m\u001b[0m\u001b[0m\n\u001b[0m\u001b[1;32m      5\u001b[0m \u001b[0;34m\u001b[0m\u001b[0m\n\u001b[1;32m      6\u001b[0m \u001b[0;32mfor\u001b[0m \u001b[0mi\u001b[0m \u001b[0;32min\u001b[0m \u001b[0mz\u001b[0m\u001b[0;34m:\u001b[0m\u001b[0;34m\u001b[0m\u001b[0m\n",
      "\u001b[0;31mValueError\u001b[0m: I/O operation on closed file."
     ]
    }
   ],
   "source": [
    "with open(r'a.txt','a') as  f:\n",
    "    f.write(\"小楼一夜听春雨\")\n",
    "    \n",
    "z=f.readline()\n",
    "\n",
    "for i in z:\n",
    "    print(i)"
   ]
  },
  {
   "cell_type": "code",
   "execution_count": 133,
   "metadata": {},
   "outputs": [
    {
     "data": {
      "text/plain": [
       "<bound method Shelf.close of <shelve.DbfilenameShelf object at 0x7f3c94070438>>"
      ]
     },
     "execution_count": 133,
     "metadata": {},
     "output_type": "execute_result"
    }
   ],
   "source": [
    "import shelve\n",
    "\n",
    "#相当于是一个字典类型\n",
    "\n",
    "she = shelve.open(r'shelve.db')\n",
    "\n",
    "she['one']=1\n",
    "she['two']=2\n",
    "she['tree']=3\n",
    "\n",
    "she.close\n",
    "\n",
    "\n",
    "\n"
   ]
  },
  {
   "cell_type": "code",
   "execution_count": 136,
   "metadata": {},
   "outputs": [
    {
     "name": "stdout",
     "output_type": "stream",
     "text": [
      "1\n",
      "2\n",
      "3\n"
     ]
    }
   ],
   "source": [
    "shv=shelve.open(r'shelve.db')\n",
    "\n",
    "print(shv['one'])\n",
    "print(shv['two'])\n",
    "print(shv['tree'])"
   ]
  },
  {
   "cell_type": "code",
   "execution_count": 152,
   "metadata": {},
   "outputs": [
    {
     "name": "stdout",
     "output_type": "stream",
     "text": [
      "1\n",
      "3\n",
      "4\n",
      "{'ok': 1, 'two': 2, 'ss': 3}\n",
      "{'ok': 200, 'two': 2, 'ss': 3}\n"
     ]
    }
   ],
   "source": [
    "import shelve\n",
    "\n",
    "\n",
    "a = shelve.open(r'shelve.db') \n",
    "\n",
    "a['one']=1\n",
    "a['two']=3\n",
    "a['trhee']=4\n",
    "print (a['one'])\n",
    "print(a['two'])\n",
    "print(a['trhee'])\n",
    "\n",
    "\n",
    "#数据写回磁盘\n",
    "a = shelve.open(r'shelve.db',writeback=True) \n",
    "\n",
    "a['one']={'ok':1,'two':2,'ss':3}\n",
    "\n",
    "print(a['one'])\n",
    "\n",
    "k1=a['one']\n",
    "k1['ok']=200\n",
    "\n",
    "\n",
    "print(a['one'])    \n",
    "    \n",
    "    \n",
    "    \n",
    "    "
   ]
  },
  {
   "cell_type": "code",
   "execution_count": 167,
   "metadata": {},
   "outputs": [],
   "source": [
    "import logging\n",
    "\n",
    "LOG_FORMAT = \"%(asctime)s==========%(levelname)s+++++++++%(message)s\"\n",
    "\n",
    "logging.basicConfig(filename=\"a.log\",level=logging.DEBUG,format=LOG_FORMAT)\n",
    "logging.debug(\"the is debug\")\n",
    "logging.info(\"the is info\")\n",
    "logging.warning(\"the is warning\")\n",
    "logging.error(\"the is error\")\n",
    "logging.critical(\"the is critical\")\n",
    "\n",
    "\n",
    "\n",
    "\n",
    "\n",
    "\n",
    "\n",
    "\n",
    "\n",
    "\n",
    "\n",
    "\n",
    "\n"
   ]
  },
  {
   "cell_type": "code",
   "execution_count": 169,
   "metadata": {},
   "outputs": [],
   "source": [
    "#日志生成blog\n",
    "\n",
    "import logging\n",
    "import datetime\n",
    "import logging.handlers\n",
    "\n",
    "\n",
    "\n",
    "#定义logger\n",
    "\n",
    "logger = logging.getLogger('mylogger')\n",
    "logger.setLevel(logging.DEBUG)\n",
    "\n",
    "#为两个不同的句柄设置handler\n",
    "\n",
    "rf_handler=logging.handlers.TimedRotatingFileHandler('all.log', when='midnight', interval=1, backupCount=7, atTime=datetime.time(0, 0, 0, 0))\n",
    "rf_handler.setFormatter(logging.Formatter(\"%(asctime)s -- %(levelname)s -- %(message)s\"))\n",
    "\n",
    "f_handler = logging.FileHandler('error.log')\n",
    "f_handler.setLevel(logging.ERROR)\n",
    "rf_handler.setFormatter(logging.Formatter(\"%(asctime)s -- %(levelname)s -- %(message)s\"))\n",
    "\n",
    "#把相应的处理器装导logger上\n",
    "\n",
    "logger.addHandler(rf_handler)\n",
    "logger.addHandler(f_handler)\n",
    "\n",
    "\n",
    "\n",
    "logger.debug('debug message')\n",
    "logger.info('info message')\n",
    "logger.warning('warning message')\n",
    "logger.error('error message')\n",
    "logger.critical('critical message')\n",
    "\n",
    "\n",
    "\n",
    "\n",
    "\n",
    "\n",
    "\n",
    "\n",
    "\n",
    "\n",
    "\n",
    "\n",
    "\n",
    "\n",
    "\n",
    "\n",
    "\n",
    "\n",
    "\n",
    "\n",
    "\n",
    "\n",
    "\n",
    "\n",
    "\n",
    "\n",
    "\n",
    "\n",
    "\n",
    "\n",
    "\n",
    "\n",
    "\n",
    "\n",
    "\n",
    "\n",
    "\n",
    "\n",
    "\n",
    "\n",
    "\n",
    "\n",
    "\n"
   ]
  },
  {
   "cell_type": "code",
   "execution_count": 171,
   "metadata": {},
   "outputs": [
    {
     "name": "stdout",
     "output_type": "stream",
     "text": [
      "start main time Sun Jan  6 16:27:48 2019\n",
      "start loop1 Sun Jan  6 16:27:48 2019\n",
      "我是参数 王老大\n",
      "start loop2 Sun Jan  6 16:27:48 2019\n",
      "我是参数 王大鹏 我是参数 王晓鹏\n",
      "end loop1 Sun Jan  6 16:27:50 2019\n",
      "end loop2 Sun Jan  6 16:27:50 2019\n",
      "all time Sun Jan  6 16:27:50 2019\n"
     ]
    }
   ],
   "source": [
    "#多线程技术\n",
    "import time\n",
    "import threading\n",
    "\n",
    "\n",
    "def loop(ll):\n",
    "    print('start loop1',time.ctime())\n",
    "    print(\"我是参数\",ll)\n",
    "    time.sleep(2)\n",
    "    print('end loop1',time.ctime())\n",
    "\n",
    "def loop2(ll,ss):\n",
    "    print('start loop2',time.ctime())\n",
    "    print(\"我是参数\", ll,\"我是参数\",ss)\n",
    "    time.sleep(2)\n",
    "    print('end loop2',time.ctime())\n",
    "\n",
    "def main():\n",
    "    print('start main time',time.ctime())\n",
    "    t1 = threading.Thread(target=loop,args=(\"王老大\",))\n",
    "    t1.start()\n",
    "    t2=threading.Thread(target=loop2,args=(\"王大鹏\",\"王晓鹏\"))\n",
    "    t2.start()\n",
    "\n",
    "    t1.join()\n",
    "    t2.join()\n",
    "\n",
    "    print('all time',time.ctime())\n",
    "\n",
    "if __name__ == '__main__':\n",
    "     main()\n",
    "     \n"
   ]
  },
  {
   "cell_type": "code",
   "execution_count": null,
   "metadata": {},
   "outputs": [],
   "source": [
    " # 判断对象是什么类型\n",
    "    \n",
    "    from collections import Iterable\n",
    "\n",
    "s=[1,2,3,4,5]\n",
    "\n",
    "print(isinstance(s,Iterable))"
   ]
  },
  {
   "cell_type": "code",
   "execution_count": 182,
   "metadata": {},
   "outputs": [
    {
     "name": "stdout",
     "output_type": "stream",
     "text": [
      "step 1\n",
      "1\n",
      "step2\n",
      "2\n"
     ]
    }
   ],
   "source": [
    "# 生成器\n",
    "\n",
    "def odd():\n",
    "    print('step 1')\n",
    "    yield 1\n",
    "    \n",
    "    print('step2')\n",
    "    yield 2\n",
    "    \n",
    "    \n",
    "    \n",
    "g = odd()\n",
    "\n",
    "one = next(g)\n",
    "\n",
    "print(one)\n",
    "\n",
    "two = next(g)\n",
    "\n",
    "print(two)\n"
   ]
  }
 ],
 "metadata": {
  "kernelspec": {
   "display_name": "Python 3",
   "language": "python",
   "name": "python3"
  },
  "language_info": {
   "codemirror_mode": {
    "name": "ipython",
    "version": 3
   },
   "file_extension": ".py",
   "mimetype": "text/x-python",
   "name": "python",
   "nbconvert_exporter": "python",
   "pygments_lexer": "ipython3",
   "version": "3.6.0"
  }
 },
 "nbformat": 4,
 "nbformat_minor": 2
}
