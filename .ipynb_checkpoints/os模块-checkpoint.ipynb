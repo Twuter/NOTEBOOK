{
 "cells": [
  {
   "cell_type": "code",
   "execution_count": 2,
   "metadata": {},
   "outputs": [
    {
     "name": "stdout",
     "output_type": "stream",
     "text": [
      "os.stat_result(st_mode=33188, st_ino=658077, st_dev=64769, st_nlink=1, st_uid=1000, st_gid=1000, st_size=116, st_atime=1547045720, st_mtime=1546260980, st_ctime=1547045700)\n"
     ]
    }
   ],
   "source": [
    "\n",
    "\n",
    "\n",
    "import os\n",
    "\n",
    "\n",
    "\n",
    "#print(os.listdir())\n",
    "print(os.stat('a.txt'))\n",
    "\n",
    "##解释几个时间\n",
    "#  - st_size 文件大小,字节\n",
    "#  - st_atime 访问时间\n",
    "#  - st_mtime  修改时间\n",
    "#  - st_ctime 创建时间"
   ]
  }
 ],
 "metadata": {
  "kernelspec": {
   "display_name": "Python 3",
   "language": "python",
   "name": "python3"
  },
  "language_info": {
   "codemirror_mode": {
    "name": "ipython",
    "version": 3
   },
   "file_extension": ".py",
   "mimetype": "text/x-python",
   "name": "python",
   "nbconvert_exporter": "python",
   "pygments_lexer": "ipython3",
   "version": "3.6.0"
  }
 },
 "nbformat": 4,
 "nbformat_minor": 2
}
