{
 "cells": [
  {
   "cell_type": "code",
   "execution_count": 2,
   "metadata": {},
   "outputs": [
    {
     "name": "stdout",
     "output_type": "stream",
     "text": [
      "ok\n",
      "a=36\n",
      "b=35\n",
      "71\n",
      "1260\n",
      "1.0285714285714285\n",
      "1\n"
     ]
    }
   ],
   "source": [
    "#函数练习\n",
    "from  add  import add,shen,chu,muit\n",
    "\n",
    "d = int(input(\"a=\"))\n",
    "u = int(input(\"b=\"))\n",
    "\n",
    "\n",
    "\n",
    "print(add(d,u))\n",
    "\n",
    "print(shen(d,u))\n",
    "\n",
    "print(chu(d,u))\n",
    "\n",
    "print(muit(d,u))\n",
    "\n"
   ]
  }
 ],
 "metadata": {
  "kernelspec": {
   "display_name": "Python 3",
   "language": "python",
   "name": "python3"
  },
  "language_info": {
   "codemirror_mode": {
    "name": "ipython",
    "version": 3
   },
   "file_extension": ".py",
   "mimetype": "text/x-python",
   "name": "python",
   "nbconvert_exporter": "python",
   "pygments_lexer": "ipython3",
   "version": "3.6.0"
  }
 },
 "nbformat": 4,
 "nbformat_minor": 2
}
