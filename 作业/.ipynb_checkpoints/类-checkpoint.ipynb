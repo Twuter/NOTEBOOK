{
 "cells": [
  {
   "cell_type": "code",
   "execution_count": 1,
   "metadata": {},
   "outputs": [
    {
     "name": "stdout",
     "output_type": "stream",
     "text": [
      "my name molin,我今年 12\n",
      "我每天晚上12点睡觉\n"
     ]
    }
   ],
   "source": [
    "#实现动物\n",
    "\n",
    "\n",
    "class dongwu:\n",
    "    '''\n",
    "        this is  dongwu\n",
    "        seelp\n",
    "        eat\n",
    "        paly\n",
    "\n",
    "    '''\n",
    "\n",
    "    def __init__(self,name,age):\n",
    "        self.name = name\n",
    "        self.age = age\n",
    "\n",
    "    def sayhello(self):\n",
    "        print('my name %s,我今年'%self.name,self.age)\n",
    "\n",
    "    def seelp(self):\n",
    "        print(\"我每天晚上12点睡觉\")\n",
    "    def eat(self,like,nolike):\n",
    "        print(\"me like eat{0},i not like eat{1}\",format(like),format(nolike))\n",
    "\n",
    "class person(dongwu):\n",
    "    def paobu(self):\n",
    "        print(\"i like paobu\")\n",
    "\n",
    "\n",
    "a = person(\"molin\",12)\n",
    "\n",
    "a.sayhello()\n",
    "\n",
    "a.seelp()\n",
    "\n"
   ]
  }
 ],
 "metadata": {
  "kernelspec": {
   "display_name": "Python 3",
   "language": "python",
   "name": "python3"
  },
  "language_info": {
   "codemirror_mode": {
    "name": "ipython",
    "version": 3
   },
   "file_extension": ".py",
   "mimetype": "text/x-python",
   "name": "python",
   "nbconvert_exporter": "python",
   "pygments_lexer": "ipython3",
   "version": "3.6.0"
  }
 },
 "nbformat": 4,
 "nbformat_minor": 2
}
