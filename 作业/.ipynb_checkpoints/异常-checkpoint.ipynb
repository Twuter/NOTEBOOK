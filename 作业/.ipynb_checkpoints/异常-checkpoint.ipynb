{
 "cells": [
  {
   "cell_type": "code",
   "execution_count": 1,
   "metadata": {},
   "outputs": [
    {
     "name": "stdout",
     "output_type": "stream",
     "text": [
      "请输入字符3\n"
     ]
    }
   ],
   "source": [
    "#异常查看\n",
    "\n",
    "\n",
    "def isstr(var):\n",
    "    try:\n",
    "        return int(var)\n",
    "    except ValueError:\n",
    "        print(\"类型错误\")\n",
    "a =  input(\"请输入字符\")\n",
    "\n",
    "s = isstr(a)\n",
    "        \n",
    "    \n"
   ]
  }
 ],
 "metadata": {
  "kernelspec": {
   "display_name": "Python 3",
   "language": "python",
   "name": "python3"
  },
  "language_info": {
   "codemirror_mode": {
    "name": "ipython",
    "version": 3
   },
   "file_extension": ".py",
   "mimetype": "text/x-python",
   "name": "python",
   "nbconvert_exporter": "python",
   "pygments_lexer": "ipython3",
   "version": "3.6.0"
  }
 },
 "nbformat": 4,
 "nbformat_minor": 2
}
