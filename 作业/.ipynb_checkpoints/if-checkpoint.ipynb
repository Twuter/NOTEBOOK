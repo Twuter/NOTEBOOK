{
 "cells": [
  {
   "cell_type": "code",
   "execution_count": null,
   "metadata": {},
   "outputs": [],
   "source": [
    "# 实现正确的账号和密码显示信息\n",
    "import sys\n",
    "flag = True\n",
    "while flag:\n",
    "    name = input(\"请输入账户：\")\n",
    "    passwd = input(\"请输入密码：\")\n",
    "\n",
    "    if name == 'seven':\n",
    "        if passwd == '123':\n",
    "            print(\"欢迎使用系统\")\n",
    "            sys.exit(0)\n",
    "        elif name == 'seven':\n",
    "            if passwd != '123':\n",
    "                print(\"请重新输入密码\")\n",
    "    elif name !='seven':\n",
    "        if passwd == '123':\n",
    "             print(\"请输入正确的账户名\")\n",
    "        else:\n",
    "            print(\"重新组测\")\n",
    "            sys.exit(0)\n",
    "    else:\n",
    "        print(\"组测账号\")\n",
    "        sys.exit(0)\n"
   ]
  },
  {
   "cell_type": "code",
   "execution_count": null,
   "metadata": {},
   "outputs": [],
   "source": []
  },
  {
   "cell_type": "code",
   "execution_count": null,
   "metadata": {},
   "outputs": [],
   "source": []
  },
  {
   "cell_type": "code",
   "execution_count": null,
   "metadata": {},
   "outputs": [],
   "source": []
  },
  {
   "cell_type": "code",
   "execution_count": null,
   "metadata": {},
   "outputs": [],
   "source": []
  }
 ],
 "metadata": {
  "kernelspec": {
   "display_name": "Python 3",
   "language": "python",
   "name": "python3"
  },
  "language_info": {
   "codemirror_mode": {
    "name": "ipython",
    "version": 3
   },
   "file_extension": ".py",
   "mimetype": "text/x-python",
   "name": "python",
   "nbconvert_exporter": "python",
   "pygments_lexer": "ipython3",
   "version": "3.6.0"
  }
 },
 "nbformat": 4,
 "nbformat_minor": 2
}
